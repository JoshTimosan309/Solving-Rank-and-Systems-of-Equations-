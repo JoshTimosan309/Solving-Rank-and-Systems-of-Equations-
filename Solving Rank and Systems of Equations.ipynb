{
  "cells": [
    {
      "cell_type": "markdown",
      "metadata": {
        "id": "bgu4s6np6U4T"
      },
      "source": [
        "# Student Activity: Solving Rank of a Matrix, Systems of Equations, and Matrix Operations\n",
        "\n"
      ]
    },
    {
      "cell_type": "code",
      "execution_count": 1,
      "metadata": {
        "id": "7Ybp0OCy6U4V"
      },
      "outputs": [],
      "source": [
        "import numpy as np"
      ]
    },
    {
      "cell_type": "markdown",
      "metadata": {
        "id": "Ol4qPdPf6U4W"
      },
      "source": [
        "## Problem 1: Rank of a Matrix"
      ]
    },
    {
      "cell_type": "code",
      "execution_count": 2,
      "metadata": {
        "colab": {
          "base_uri": "https://localhost:8080/"
        },
        "id": "K3stUfPN6U4W",
        "outputId": "767e2b48-c288-46f5-9f6c-e3e1ed95d66a"
      },
      "outputs": [
        {
          "output_type": "stream",
          "name": "stdout",
          "text": [
            "Matrix A:\n",
            "[[1 2 3]\n",
            " [4 5 6]\n",
            " [7 8 9]]\n",
            "\n",
            "Rank of matrix A: 2\n",
            "\n",
            "Explanation:\n",
            "The rank of this matrix is 2 because:\n",
            "1. It has 3 rows, but the third row is a linear combination of the first two.\n",
            "2. Specifically, row3 = 2 * row2 - row1\n",
            "3. This means there are only 2 linearly independent rows or columns.\n"
          ]
        }
      ],
      "source": [
        "# Define the matrix\n",
        "A = np.array([[1, 2, 3],\n",
        "              [4, 5, 6],\n",
        "              [7, 8, 9]])\n",
        "\n",
        "# Compute the rank\n",
        "rank = np.linalg.matrix_rank(A)\n",
        "\n",
        "print(\"Matrix A:\")\n",
        "print(A)\n",
        "print(f\"\\nRank of matrix A: {rank}\")\n",
        "\n",
        "# Explanation\n",
        "print(\"\\nExplanation:\")\n",
        "print(\"The rank of this matrix is 2 because:\")\n",
        "print(\"1. It has 3 rows, but the third row is a linear combination of the first two.\")\n",
        "print(\"2. Specifically, row3 = 2 * row2 - row1\")\n",
        "print(\"3. This means there are only 2 linearly independent rows or columns.\")"
      ]
    },
    {
      "cell_type": "markdown",
      "metadata": {
        "id": "QNKAytmm6U4W"
      },
      "source": [
        "## Problem 2: Solving Systems of Equations Using Matrix Inverse (3x3)"
      ]
    },
    {
      "cell_type": "code",
      "execution_count": 3,
      "metadata": {
        "colab": {
          "base_uri": "https://localhost:8080/"
        },
        "id": "Mg0EYUiy6U4W",
        "outputId": "b18a03e6-01b5-4c65-8c00-e7bef6b1710b"
      },
      "outputs": [
        {
          "output_type": "stream",
          "name": "stdout",
          "text": [
            "Solution:\n",
            "x = 2.00\n",
            "y = 3.00\n",
            "z = -1.00\n",
            "\n",
            "Verification:\n",
            "Ax = [  8. -11.  -3.]\n",
            "b  = [  8 -11  -3]\n",
            "\n",
            "Explanation:\n",
            "1. We first check if the matrix is invertible by calculating its determinant.\n",
            "2. If invertible, we use the formula x = A^(-1) * b to solve the system.\n",
            "3. We verify the solution by checking if Ax equals b.\n"
          ]
        }
      ],
      "source": [
        "# Define the coefficient matrix\n",
        "A = np.array([[2, 1, -1],\n",
        "              [-3, -1, 2],\n",
        "              [-2, 1, 2]])\n",
        "\n",
        "# Define the constant vector\n",
        "b = np.array([8, -11, -3])\n",
        "\n",
        "# Check if the matrix is invertible\n",
        "if np.linalg.det(A) != 0:\n",
        "    # Solve the system\n",
        "    x = np.linalg.inv(A).dot(b)\n",
        "    print(\"Solution:\")\n",
        "    print(f\"x = {x[0]:.2f}\")\n",
        "    print(f\"y = {x[1]:.2f}\")\n",
        "    print(f\"z = {x[2]:.2f}\")\n",
        "\n",
        "    # Verify the solution\n",
        "    print(\"\\nVerification:\")\n",
        "    print(f\"Ax = {A.dot(x)}\")\n",
        "    print(f\"b  = {b}\")\n",
        "else:\n",
        "    print(\"Matrix A is not invertible. No unique solution.\")\n",
        "\n",
        "# Explanation\n",
        "print(\"\\nExplanation:\")\n",
        "print(\"1. We first check if the matrix is invertible by calculating its determinant.\")\n",
        "print(\"2. If invertible, we use the formula x = A^(-1) * b to solve the system.\")\n",
        "print(\"3. We verify the solution by checking if Ax equals b.\")"
      ]
    },
    {
      "cell_type": "markdown",
      "metadata": {
        "id": "DUFe7-zn6U4W"
      },
      "source": [
        "## Problem 3: Matrix Addition for Different Dimensions"
      ]
    },
    {
      "cell_type": "code",
      "execution_count": 4,
      "metadata": {
        "colab": {
          "base_uri": "https://localhost:8080/"
        },
        "id": "fPt0rEqq6U4W",
        "outputId": "287a6c13-958c-41b5-b1c9-d20e8a2ba93d"
      },
      "outputs": [
        {
          "output_type": "stream",
          "name": "stdout",
          "text": [
            "4x4 Matrix Addition:\n",
            "Matrix A:\n",
            "[[5 3 3 6]\n",
            " [7 5 3 2]\n",
            " [1 4 8 4]\n",
            " [3 6 4 2]]\n",
            "\n",
            "Matrix B:\n",
            "[[4 4 9 5]\n",
            " [6 7 4 6]\n",
            " [1 1 1 9]\n",
            " [6 2 4 6]]\n",
            "\n",
            "Result (A + B):\n",
            "[[ 9  7 12 11]\n",
            " [13 12  7  8]\n",
            " [ 2  5  9 13]\n",
            " [ 9  8  8  8]]\n",
            "\n",
            "5x5 Matrix Addition:\n",
            "Matrix A:\n",
            "[[7 4 4 5 4]\n",
            " [5 2 4 1 9]\n",
            " [9 9 4 7 1]\n",
            " [1 5 7 7 1]\n",
            " [3 8 2 9 8]]\n",
            "\n",
            "Matrix B:\n",
            "[[9 8 4 3 5]\n",
            " [3 4 3 2 3]\n",
            " [9 5 3 3 5]\n",
            " [8 1 8 3 5]\n",
            " [7 5 5 3 9]]\n",
            "\n",
            "Result (A + B):\n",
            "[[16 12  8  8  9]\n",
            " [ 8  6  7  3 12]\n",
            " [18 14  7 10  6]\n",
            " [ 9  6 15 10  6]\n",
            " [10 13  7 12 17]]\n",
            "\n",
            "Explanation:\n",
            "1. Matrix addition is performed element-wise.\n",
            "2. The matrices must have the same dimensions for addition to be possible.\n",
            "3. The result matrix has the same dimensions as the input matrices.\n",
            "4. This method works for any n×n matrices, as long as they have the same dimensions.\n"
          ]
        }
      ],
      "source": [
        "def matrix_addition(A, B):\n",
        "    \"\"\"Perform matrix addition for two matrices of the same dimension.\"\"\"\n",
        "    if A.shape != B.shape:\n",
        "        raise ValueError(\"Matrices must have the same dimensions for addition.\")\n",
        "    return A + B\n",
        "\n",
        "# 4x4 matrix addition\n",
        "A_4x4 = np.random.randint(1, 10, size=(4, 4))\n",
        "B_4x4 = np.random.randint(1, 10, size=(4, 4))\n",
        "result_4x4 = matrix_addition(A_4x4, B_4x4)\n",
        "\n",
        "print(\"4x4 Matrix Addition:\")\n",
        "print(\"Matrix A:\")\n",
        "print(A_4x4)\n",
        "print(\"\\nMatrix B:\")\n",
        "print(B_4x4)\n",
        "print(\"\\nResult (A + B):\")\n",
        "print(result_4x4)\n",
        "\n",
        "# 5x5 matrix addition\n",
        "A_5x5 = np.random.randint(1, 10, size=(5, 5))\n",
        "B_5x5 = np.random.randint(1, 10, size=(5, 5))\n",
        "result_5x5 = matrix_addition(A_5x5, B_5x5)\n",
        "\n",
        "print(\"\\n5x5 Matrix Addition:\")\n",
        "print(\"Matrix A:\")\n",
        "print(A_5x5)\n",
        "print(\"\\nMatrix B:\")\n",
        "print(B_5x5)\n",
        "print(\"\\nResult (A + B):\")\n",
        "print(result_5x5)\n",
        "\n",
        "# Explanation\n",
        "print(\"\\nExplanation:\")\n",
        "print(\"1. Matrix addition is performed element-wise.\")\n",
        "print(\"2. The matrices must have the same dimensions for addition to be possible.\")\n",
        "print(\"3. The result matrix has the same dimensions as the input matrices.\")\n",
        "print(\"4. This method works for any n×n matrices, as long as they have the same dimensions.\")"
      ]
    },
    {
      "cell_type": "markdown",
      "metadata": {
        "id": "G50y9vY16U4X"
      },
      "source": [
        "## Problem 4: Applying Python to Solve Related Matrix Problems"
      ]
    },
    {
      "cell_type": "code",
      "execution_count": 5,
      "metadata": {
        "colab": {
          "base_uri": "https://localhost:8080/"
        },
        "id": "Z2Nh7E3A6U4X",
        "outputId": "05a7f8f2-de77-4744-be57-c85f91e21ae8"
      },
      "outputs": [
        {
          "output_type": "stream",
          "name": "stdout",
          "text": [
            "Matrix A:\n",
            "[[1 2 3]\n",
            " [4 5 6]\n",
            " [7 8 9]]\n",
            "\n",
            "Matrix B:\n",
            "[[9 8 7]\n",
            " [6 5 4]\n",
            " [3 2 1]]\n",
            "\n",
            "Matrix Addition (A + B):\n",
            "[[10 10 10]\n",
            " [10 10 10]\n",
            " [10 10 10]]\n",
            "\n",
            "Matrix Multiplication (A * B):\n",
            "[[ 30  24  18]\n",
            " [ 84  69  54]\n",
            " [138 114  90]]\n",
            "\n",
            "Rank of A: 2\n",
            "Rank of B: 2\n",
            "\n",
            "Determinant of A: 0.00\n",
            "Determinant of B: 0.00\n",
            "\n",
            "Inverse of A:\n",
            "\n",
            "Matrix A is not invertible.\n",
            "\n",
            "Inverse of B:\n",
            "\n",
            "Matrix B is not invertible.\n",
            "\n",
            "Explanation:\n",
            "1. We defined a function to perform various matrix operations on two input matrices.\n",
            "2. The function demonstrates addition, multiplication, rank calculation, determinant calculation, and inverse (if possible).\n",
            "3. This approach allows us to easily apply these operations to any pair of matrices.\n",
            "4. Note that some operations (like inverse) may not be possible for all matrices, so we use try-except blocks to handle these cases.\n"
          ]
        }
      ],
      "source": [
        "def matrix_operations(A, B):\n",
        "    \"\"\"Perform various matrix operations on two matrices.\"\"\"\n",
        "    print(\"Matrix A:\")\n",
        "    print(A)\n",
        "    print(\"\\nMatrix B:\")\n",
        "    print(B)\n",
        "\n",
        "    # Addition\n",
        "    print(\"\\nMatrix Addition (A + B):\")\n",
        "    print(A + B)\n",
        "\n",
        "    # Multiplication\n",
        "    print(\"\\nMatrix Multiplication (A * B):\")\n",
        "    print(np.dot(A, B))\n",
        "\n",
        "    # Rank\n",
        "    print(f\"\\nRank of A: {np.linalg.matrix_rank(A)}\")\n",
        "    print(f\"Rank of B: {np.linalg.matrix_rank(B)}\")\n",
        "\n",
        "    # Determinant\n",
        "    print(f\"\\nDeterminant of A: {np.linalg.det(A):.2f}\")\n",
        "    print(f\"Determinant of B: {np.linalg.det(B):.2f}\")\n",
        "\n",
        "    # Inverse (if possible)\n",
        "    try:\n",
        "        print(\"\\nInverse of A:\")\n",
        "        print(np.linalg.inv(A))\n",
        "    except np.linalg.LinAlgError:\n",
        "        print(\"\\nMatrix A is not invertible.\")\n",
        "\n",
        "    try:\n",
        "        print(\"\\nInverse of B:\")\n",
        "        print(np.linalg.inv(B))\n",
        "    except np.linalg.LinAlgError:\n",
        "        print(\"\\nMatrix B is not invertible.\")\n",
        "\n",
        "# Create two 3x3 matrices\n",
        "A = np.array([[1, 2, 3],\n",
        "              [4, 5, 6],\n",
        "              [7, 8, 9]])\n",
        "\n",
        "B = np.array([[9, 8, 7],\n",
        "              [6, 5, 4],\n",
        "              [3, 2, 1]])\n",
        "\n",
        "# Perform operations\n",
        "matrix_operations(A, B)\n",
        "\n",
        "# Explanation\n",
        "print(\"\\nExplanation:\")\n",
        "print(\"1. We defined a function to perform various matrix operations on two input matrices.\")\n",
        "print(\"2. The function demonstrates addition, multiplication, rank calculation, determinant calculation, and inverse (if possible).\")\n",
        "print(\"3. This approach allows us to easily apply these operations to any pair of matrices.\")\n",
        "print(\"4. Note that some operations (like inverse) may not be possible for all matrices, so we use try-except blocks to handle these cases.\")"
      ]
    }
  ],
  "metadata": {
    "kernelspec": {
      "display_name": "Python 3",
      "language": "python",
      "name": "python3"
    },
    "language_info": {
      "codemirror_mode": {
        "name": "ipython",
        "version": 3
      },
      "file_extension": ".py",
      "mimetype": "text/x-python",
      "name": "python",
      "nbconvert_exporter": "python",
      "pygments_lexer": "ipython3",
      "version": "3.8.5"
    },
    "colab": {
      "provenance": []
    }
  },
  "nbformat": 4,
  "nbformat_minor": 0
}